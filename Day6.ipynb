{
 "cells": [
  {
   "cell_type": "code",
   "execution_count": 2,
   "metadata": {},
   "outputs": [],
   "source": [
    "with open('day6-input.txt', 'r') as f:\n",
    "    f_content = f.read()"
   ]
  },
  {
   "cell_type": "markdown",
   "metadata": {},
   "source": [
    "#### task 1"
   ]
  },
  {
   "cell_type": "code",
   "execution_count": 16,
   "metadata": {},
   "outputs": [],
   "source": [
    "n_counts = 0\n",
    "curr_gr_line = []\n",
    "curr_gr = None\n",
    "\n",
    "for i, g in enumerate(f_content.split('\\n')):\n",
    "    if g == '':\n",
    "        #print(curr_gr_line)\n",
    "        curr_unique = []\n",
    "        for person in curr_gr_line:\n",
    "            if person != '':\n",
    "                person_list = list(person)\n",
    "                for ans in person_list:\n",
    "                    if ans not in curr_unique:\n",
    "                        curr_unique.append(ans)\n",
    "        #print(f'Unique: {curr_unique}')\n",
    "        n_counts += len(curr_unique)\n",
    "        #print('=====')\n",
    "        curr_gr_line = []\n",
    "    curr_gr_line.append(g)"
   ]
  },
  {
   "cell_type": "code",
   "execution_count": 17,
   "metadata": {},
   "outputs": [
    {
     "data": {
      "text/plain": [
       "7283"
      ]
     },
     "execution_count": 17,
     "metadata": {},
     "output_type": "execute_result"
    }
   ],
   "source": [
    "n_counts"
   ]
  },
  {
   "cell_type": "markdown",
   "metadata": {},
   "source": [
    "#### task 2"
   ]
  },
  {
   "cell_type": "code",
   "execution_count": 39,
   "metadata": {},
   "outputs": [],
   "source": [
    "n_counts = 0\n",
    "curr_gr_line = []\n",
    "curr_gr = None\n",
    "\n",
    "for i, g in enumerate(f_content.split('\\n')):\n",
    "    if g == '':\n",
    "        #print('New Group:')\n",
    "        first_pass = True\n",
    "        curr_unique = []\n",
    "        for person in curr_gr_line:\n",
    "            if person != '':\n",
    "                person_list = list(person)\n",
    "                if first_pass:\n",
    "                    #print('Set initial state')\n",
    "                    curr_unique = person_list\n",
    "                    first_pass = False\n",
    "                else:\n",
    "                    curr_unique = [cu for cu in curr_unique if cu in person_list]\n",
    "                #print('person:', person_list)\n",
    "        #print(f'Unique: {curr_unique}')\n",
    "        n_counts += len(curr_unique)\n",
    "        #print('=====')\n",
    "        curr_gr_line = []\n",
    "    curr_gr_line.append(g)"
   ]
  },
  {
   "cell_type": "code",
   "execution_count": 40,
   "metadata": {},
   "outputs": [
    {
     "data": {
      "text/plain": [
       "3520"
      ]
     },
     "execution_count": 40,
     "metadata": {},
     "output_type": "execute_result"
    }
   ],
   "source": [
    "n_counts"
   ]
  },
  {
   "cell_type": "code",
   "execution_count": null,
   "metadata": {},
   "outputs": [],
   "source": []
  }
 ],
 "metadata": {
  "kernelspec": {
   "display_name": "Python 3",
   "language": "python",
   "name": "python3"
  },
  "language_info": {
   "codemirror_mode": {
    "name": "ipython",
    "version": 3
   },
   "file_extension": ".py",
   "mimetype": "text/x-python",
   "name": "python",
   "nbconvert_exporter": "python",
   "pygments_lexer": "ipython3",
   "version": "3.7.0"
  }
 },
 "nbformat": 4,
 "nbformat_minor": 4
}

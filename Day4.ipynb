{
 "cells": [
  {
   "cell_type": "code",
   "execution_count": 1,
   "metadata": {},
   "outputs": [],
   "source": [
    "with open('day4-input.txt', 'r') as f:\n",
    "    f_content = f.read()"
   ]
  },
  {
   "cell_type": "markdown",
   "metadata": {},
   "source": [
    "#### task 1"
   ]
  },
  {
   "cell_type": "code",
   "execution_count": 25,
   "metadata": {},
   "outputs": [],
   "source": [
    "passports = []\n",
    "curr_pass_line = []\n",
    "curr_pass = None\n",
    "required_fields = ['byr', 'iyr', 'eyr', 'hgt', 'hcl', 'ecl', 'pid']\n",
    "n_valid = 0\n",
    "\n",
    "for i, p in enumerate(f_content.split('\\n')):\n",
    "    if p == '':\n",
    "        curr_pass = \" \".join(curr_pass_line)\n",
    "        #print(curr_pass)\n",
    "        entries = curr_pass.split(' ')\n",
    "        fields = [f.split(':')[0] for f in entries if f != '']\n",
    "        missing = [f for f in required_fields if f not in fields]\n",
    "        if len(missing) == 0:\n",
    "            n_valid += 1 \n",
    "        curr_pass_line = []\n",
    "    curr_pass_line.append(p)"
   ]
  },
  {
   "cell_type": "code",
   "execution_count": 26,
   "metadata": {},
   "outputs": [
    {
     "data": {
      "text/plain": [
       "190"
      ]
     },
     "execution_count": 26,
     "metadata": {},
     "output_type": "execute_result"
    }
   ],
   "source": [
    "n_valid"
   ]
  },
  {
   "cell_type": "markdown",
   "metadata": {},
   "source": [
    "#### task 2"
   ]
  },
  {
   "cell_type": "code",
   "execution_count": 148,
   "metadata": {},
   "outputs": [],
   "source": [
    "passports = []\n",
    "curr_pass_line = []\n",
    "curr_pass = None\n",
    "required_fields = ['byr', 'iyr', 'eyr', 'hgt', 'hcl', 'ecl', 'pid']\n",
    "n_valid = 0\n",
    "\n",
    "for i, p in enumerate(f_content.split('\\n')):\n",
    "    if p == '':\n",
    "        is_valid = True\n",
    "        curr_pass = \" \".join(curr_pass_line)\n",
    "        entries = curr_pass.split(' ')\n",
    "        field_values = [f.split(':') for f in entries if f != '']\n",
    "        fields = [f[0] for f in field_values]\n",
    "        missing = [f for f in required_fields if f not in fields]\n",
    "        if len(missing) > 0:\n",
    "            is_valid = False\n",
    "        else:\n",
    "            # here, all required fields are there, so we can begin the validation\n",
    "            for field_type, field_value in field_values:\n",
    "                if field_type == 'byr':\n",
    "                    field_value = int(field_value)\n",
    "                    if field_value < 1920 or field_value > 2002:\n",
    "                        is_valid = False\n",
    "                        break\n",
    "                if field_type == 'iyr':\n",
    "                    field_value = int(field_value)\n",
    "                    if field_value < 2010 or field_value > 2020:\n",
    "                        is_valid = False\n",
    "                        break\n",
    "                if field_type == 'eyr':\n",
    "                    field_value = int(field_value)\n",
    "                    if field_value < 2020 or field_value > 2030:\n",
    "                        is_valid = False\n",
    "                        break\n",
    "                if field_type == 'hgt':\n",
    "                    matches = re.findall(r'^(\\d+)(cm|in)$', field_value)\n",
    "                    # print(field_value, matches)\n",
    "                    if len(matches) == 0 or len(matches[0]) != 2:\n",
    "                        is_valid = False\n",
    "                        break\n",
    "                    length, unit = matches[0]\n",
    "                    length = int(length)\n",
    "                    if unit == 'cm':\n",
    "                        if length < 150 or length > 193:\n",
    "                            is_valid = False\n",
    "                            break\n",
    "                    if unit == 'in':\n",
    "                        if length < 59 or length > 76:\n",
    "                            is_valid = False\n",
    "                            break\n",
    "                if field_type == 'hcl':\n",
    "                    matches = re.findall(r'^#([0-9a-f]{6})$', field_value)\n",
    "                    if len(matches) != 1:\n",
    "                        is_valid = False\n",
    "                        break\n",
    "                if field_type == 'ecl':\n",
    "                    if field_value not in 'amb blu brn gry grn hzl oth'.split(' '):\n",
    "                        is_valid = False\n",
    "                        break\n",
    "                if field_type == 'pid':\n",
    "                    matches = re.findall(r'^([0]+)?([0-9]{9})$', field_value)\n",
    "                    if len(matches) == 0 or len(matches[0]) != 2:\n",
    "                        # print(field_value, matches)\n",
    "                        is_valid = False\n",
    "                        break\n",
    "        if is_valid:\n",
    "            n_valid += 1\n",
    "        curr_pass_line = []\n",
    "    curr_pass_line.append(p)"
   ]
  },
  {
   "cell_type": "code",
   "execution_count": 149,
   "metadata": {},
   "outputs": [
    {
     "data": {
      "text/plain": [
       "121"
      ]
     },
     "execution_count": 149,
     "metadata": {},
     "output_type": "execute_result"
    }
   ],
   "source": [
    "n_valid"
   ]
  }
 ],
 "metadata": {
  "kernelspec": {
   "display_name": "Python 3",
   "language": "python",
   "name": "python3"
  },
  "language_info": {
   "codemirror_mode": {
    "name": "ipython",
    "version": 3
   },
   "file_extension": ".py",
   "mimetype": "text/x-python",
   "name": "python",
   "nbconvert_exporter": "python",
   "pygments_lexer": "ipython3",
   "version": "3.7.0"
  }
 },
 "nbformat": 4,
 "nbformat_minor": 4
}

{
 "cells": [
  {
   "cell_type": "code",
   "execution_count": 1,
   "metadata": {},
   "outputs": [],
   "source": [
    "with open('day5-input.txt', 'r') as f:\n",
    "    f_content = f.read()"
   ]
  },
  {
   "cell_type": "markdown",
   "metadata": {},
   "source": [
    "#### task 1"
   ]
  },
  {
   "cell_type": "code",
   "execution_count": 33,
   "metadata": {},
   "outputs": [],
   "source": [
    "import math\n",
    "def avg(num1, num2, fn):\n",
    "    return fn((num1 + num2) / 2)"
   ]
  },
  {
   "cell_type": "code",
   "execution_count": 34,
   "metadata": {},
   "outputs": [],
   "source": [
    "seat_id_max = 0\n",
    "\n",
    "for full_code in f_content.split('\\n'):\n",
    "#for full_code in ['BFFFBBFRRR']:\n",
    "    row_codes = list(full_code[:7])\n",
    "    seat_codes = list(full_code[7:])\n",
    "    \n",
    "    # figure out row\n",
    "    row_min, row_max = (0, 127)\n",
    "    for code in row_codes:\n",
    "        if code == 'F':\n",
    "            row_min, row_max = (row_min, avg(row_min, row_max, math.floor))\n",
    "        elif code == 'B':\n",
    "            row_min, row_max = (avg(row_min, row_max, math.ceil), row_max)\n",
    "        else:\n",
    "            raise ValueError('Row code is incorrect')\n",
    "    \n",
    "    \n",
    "    # figure out seat\n",
    "    seat_min, seat_max = (0, 7)\n",
    "    for code in seat_codes:\n",
    "        if code == 'L':\n",
    "            seat_min, seat_max = (seat_min, avg(seat_min, seat_max, math.floor))\n",
    "        elif code == 'R':\n",
    "            seat_min, seat_max = (avg(seat_min, seat_max, math.ceil), seat_max)\n",
    "        else:\n",
    "            raise ValueError('Seat code is incorrect')\n",
    "            \n",
    "    # calc seat ID\n",
    "    seat_id = row_min * 8 + seat_min\n",
    "    if seat_id > seat_id_max:\n",
    "        seat_id_max = seat_id"
   ]
  },
  {
   "cell_type": "code",
   "execution_count": 35,
   "metadata": {},
   "outputs": [
    {
     "data": {
      "text/plain": [
       "980"
      ]
     },
     "execution_count": 35,
     "metadata": {},
     "output_type": "execute_result"
    }
   ],
   "source": [
    "seat_id_max"
   ]
  },
  {
   "cell_type": "markdown",
   "metadata": {},
   "source": [
    "#### task 2"
   ]
  },
  {
   "cell_type": "code",
   "execution_count": 45,
   "metadata": {},
   "outputs": [],
   "source": [
    "# initialise list for visualization purpose\n",
    "rows = []\n",
    "for row_id in range(128):\n",
    "    row = [row_id]\n",
    "    for col_id in range(8):\n",
    "        row.append('X')\n",
    "    rows.append(row)"
   ]
  },
  {
   "cell_type": "code",
   "execution_count": 46,
   "metadata": {},
   "outputs": [],
   "source": [
    "seat_id_max = 0\n",
    "\n",
    "for full_code in f_content.split('\\n'):\n",
    "#for full_code in ['BFFFBBFRRR']:\n",
    "    row_codes = list(full_code[:7])\n",
    "    seat_codes = list(full_code[7:])\n",
    "    \n",
    "    # figure out row\n",
    "    row_min, row_max = (0, 127)\n",
    "    for code in row_codes:\n",
    "        if code == 'F':\n",
    "            row_min, row_max = (row_min, avg(row_min, row_max, math.floor))\n",
    "        elif code == 'B':\n",
    "            row_min, row_max = (avg(row_min, row_max, math.ceil), row_max)\n",
    "        else:\n",
    "            raise ValueError('Row code is incorrect')\n",
    "    \n",
    "    \n",
    "    # figure out seat\n",
    "    seat_min, seat_max = (0, 7)\n",
    "    for code in seat_codes:\n",
    "        if code == 'L':\n",
    "            seat_min, seat_max = (seat_min, avg(seat_min, seat_max, math.floor))\n",
    "        elif code == 'R':\n",
    "            seat_min, seat_max = (avg(seat_min, seat_max, math.ceil), seat_max)\n",
    "        else:\n",
    "            raise ValueError('Seat code is incorrect')\n",
    "            \n",
    "    rows[row_min][seat_min + 1] = 'O'\n",
    "    \n",
    "    # calc seat ID\n",
    "    seat_id = row_min * 8 + seat_min\n",
    "    if seat_id > seat_id_max:\n",
    "        seat_id_max = seat_id"
   ]
  },
  {
   "cell_type": "code",
   "execution_count": 47,
   "metadata": {},
   "outputs": [
    {
     "data": {
      "text/plain": [
       "[[0, 'O', 'X', 'X', 'X', 'X', 'X', 'X', 'X'],\n",
       " [1, 'X', 'X', 'X', 'X', 'X', 'X', 'X', 'X'],\n",
       " [2, 'X', 'X', 'X', 'X', 'X', 'X', 'X', 'X'],\n",
       " [3, 'X', 'X', 'X', 'X', 'X', 'X', 'X', 'X'],\n",
       " [4, 'X', 'X', 'X', 'X', 'X', 'X', 'X', 'X'],\n",
       " [5, 'O', 'O', 'O', 'O', 'O', 'O', 'O', 'O'],\n",
       " [6, 'O', 'O', 'O', 'O', 'O', 'O', 'O', 'O'],\n",
       " [7, 'O', 'O', 'O', 'O', 'O', 'O', 'O', 'O'],\n",
       " [8, 'O', 'O', 'O', 'O', 'O', 'O', 'O', 'O'],\n",
       " [9, 'O', 'O', 'O', 'O', 'O', 'O', 'O', 'O'],\n",
       " [10, 'O', 'O', 'O', 'O', 'O', 'O', 'O', 'O'],\n",
       " [11, 'O', 'O', 'O', 'O', 'O', 'O', 'O', 'O'],\n",
       " [12, 'O', 'O', 'O', 'O', 'O', 'O', 'O', 'O'],\n",
       " [13, 'O', 'O', 'O', 'O', 'O', 'O', 'O', 'O'],\n",
       " [14, 'O', 'O', 'O', 'O', 'O', 'O', 'O', 'O'],\n",
       " [15, 'O', 'O', 'O', 'O', 'O', 'O', 'O', 'O'],\n",
       " [16, 'O', 'O', 'O', 'O', 'O', 'O', 'O', 'O'],\n",
       " [17, 'O', 'O', 'O', 'O', 'O', 'O', 'O', 'O'],\n",
       " [18, 'O', 'O', 'O', 'O', 'O', 'O', 'O', 'O'],\n",
       " [19, 'O', 'O', 'O', 'O', 'O', 'O', 'O', 'O'],\n",
       " [20, 'O', 'O', 'O', 'O', 'O', 'O', 'O', 'O'],\n",
       " [21, 'O', 'O', 'O', 'O', 'O', 'O', 'O', 'O'],\n",
       " [22, 'O', 'O', 'O', 'O', 'O', 'O', 'O', 'O'],\n",
       " [23, 'O', 'O', 'O', 'O', 'O', 'O', 'O', 'O'],\n",
       " [24, 'O', 'O', 'O', 'O', 'O', 'O', 'O', 'O'],\n",
       " [25, 'O', 'O', 'O', 'O', 'O', 'O', 'O', 'O'],\n",
       " [26, 'O', 'O', 'O', 'O', 'O', 'O', 'O', 'O'],\n",
       " [27, 'O', 'O', 'O', 'O', 'O', 'O', 'O', 'O'],\n",
       " [28, 'O', 'O', 'O', 'O', 'O', 'O', 'O', 'O'],\n",
       " [29, 'O', 'O', 'O', 'O', 'O', 'O', 'O', 'O'],\n",
       " [30, 'O', 'O', 'O', 'O', 'O', 'O', 'O', 'O'],\n",
       " [31, 'O', 'O', 'O', 'O', 'O', 'O', 'O', 'O'],\n",
       " [32, 'O', 'O', 'O', 'O', 'O', 'O', 'O', 'O'],\n",
       " [33, 'O', 'O', 'O', 'O', 'O', 'O', 'O', 'O'],\n",
       " [34, 'O', 'O', 'O', 'O', 'O', 'O', 'O', 'O'],\n",
       " [35, 'O', 'O', 'O', 'O', 'O', 'O', 'O', 'O'],\n",
       " [36, 'O', 'O', 'O', 'O', 'O', 'O', 'O', 'O'],\n",
       " [37, 'O', 'O', 'O', 'O', 'O', 'O', 'O', 'O'],\n",
       " [38, 'O', 'O', 'O', 'O', 'O', 'O', 'O', 'O'],\n",
       " [39, 'O', 'O', 'O', 'O', 'O', 'O', 'O', 'O'],\n",
       " [40, 'O', 'O', 'O', 'O', 'O', 'O', 'O', 'O'],\n",
       " [41, 'O', 'O', 'O', 'O', 'O', 'O', 'O', 'O'],\n",
       " [42, 'O', 'O', 'O', 'O', 'O', 'O', 'O', 'O'],\n",
       " [43, 'O', 'O', 'O', 'O', 'O', 'O', 'O', 'O'],\n",
       " [44, 'O', 'O', 'O', 'O', 'O', 'O', 'O', 'O'],\n",
       " [45, 'O', 'O', 'O', 'O', 'O', 'O', 'O', 'O'],\n",
       " [46, 'O', 'O', 'O', 'O', 'O', 'O', 'O', 'O'],\n",
       " [47, 'O', 'O', 'O', 'O', 'O', 'O', 'O', 'O'],\n",
       " [48, 'O', 'O', 'O', 'O', 'O', 'O', 'O', 'O'],\n",
       " [49, 'O', 'O', 'O', 'O', 'O', 'O', 'O', 'O'],\n",
       " [50, 'O', 'O', 'O', 'O', 'O', 'O', 'O', 'O'],\n",
       " [51, 'O', 'O', 'O', 'O', 'O', 'O', 'O', 'O'],\n",
       " [52, 'O', 'O', 'O', 'O', 'O', 'O', 'O', 'O'],\n",
       " [53, 'O', 'O', 'O', 'O', 'O', 'O', 'O', 'O'],\n",
       " [54, 'O', 'O', 'O', 'O', 'O', 'O', 'O', 'O'],\n",
       " [55, 'O', 'O', 'O', 'O', 'O', 'O', 'O', 'O'],\n",
       " [56, 'O', 'O', 'O', 'O', 'O', 'O', 'O', 'O'],\n",
       " [57, 'O', 'O', 'O', 'O', 'O', 'O', 'O', 'O'],\n",
       " [58, 'O', 'O', 'O', 'O', 'O', 'O', 'O', 'O'],\n",
       " [59, 'O', 'O', 'O', 'O', 'O', 'O', 'O', 'O'],\n",
       " [60, 'O', 'O', 'O', 'O', 'O', 'O', 'O', 'O'],\n",
       " [61, 'O', 'O', 'O', 'O', 'O', 'O', 'O', 'O'],\n",
       " [62, 'O', 'O', 'O', 'O', 'O', 'O', 'O', 'O'],\n",
       " [63, 'O', 'O', 'O', 'O', 'O', 'O', 'O', 'O'],\n",
       " [64, 'O', 'O', 'O', 'O', 'O', 'O', 'O', 'O'],\n",
       " [65, 'O', 'O', 'O', 'O', 'O', 'O', 'O', 'O'],\n",
       " [66, 'O', 'O', 'O', 'O', 'O', 'O', 'O', 'O'],\n",
       " [67, 'O', 'O', 'O', 'O', 'O', 'O', 'O', 'O'],\n",
       " [68, 'O', 'O', 'O', 'O', 'O', 'O', 'O', 'O'],\n",
       " [69, 'O', 'O', 'O', 'O', 'O', 'O', 'O', 'O'],\n",
       " [70, 'O', 'O', 'O', 'O', 'O', 'O', 'O', 'O'],\n",
       " [71, 'O', 'O', 'O', 'O', 'O', 'O', 'O', 'O'],\n",
       " [72, 'O', 'O', 'O', 'O', 'O', 'O', 'O', 'O'],\n",
       " [73, 'O', 'O', 'O', 'O', 'O', 'O', 'O', 'O'],\n",
       " [74, 'O', 'O', 'O', 'O', 'O', 'O', 'O', 'O'],\n",
       " [75, 'O', 'O', 'O', 'O', 'O', 'O', 'O', 'X'],\n",
       " [76, 'O', 'O', 'O', 'O', 'O', 'O', 'O', 'O'],\n",
       " [77, 'O', 'O', 'O', 'O', 'O', 'O', 'O', 'O'],\n",
       " [78, 'O', 'O', 'O', 'O', 'O', 'O', 'O', 'O'],\n",
       " [79, 'O', 'O', 'O', 'O', 'O', 'O', 'O', 'O'],\n",
       " [80, 'O', 'O', 'O', 'O', 'O', 'O', 'O', 'O'],\n",
       " [81, 'O', 'O', 'O', 'O', 'O', 'O', 'O', 'O'],\n",
       " [82, 'O', 'O', 'O', 'O', 'O', 'O', 'O', 'O'],\n",
       " [83, 'O', 'O', 'O', 'O', 'O', 'O', 'O', 'O'],\n",
       " [84, 'O', 'O', 'O', 'O', 'O', 'O', 'O', 'O'],\n",
       " [85, 'O', 'O', 'O', 'O', 'O', 'O', 'O', 'O'],\n",
       " [86, 'O', 'O', 'O', 'O', 'O', 'O', 'O', 'O'],\n",
       " [87, 'O', 'O', 'O', 'O', 'O', 'O', 'O', 'O'],\n",
       " [88, 'O', 'O', 'O', 'O', 'O', 'O', 'O', 'O'],\n",
       " [89, 'O', 'O', 'O', 'O', 'O', 'O', 'O', 'O'],\n",
       " [90, 'O', 'O', 'O', 'O', 'O', 'O', 'O', 'O'],\n",
       " [91, 'O', 'O', 'O', 'O', 'O', 'O', 'O', 'O'],\n",
       " [92, 'O', 'O', 'O', 'O', 'O', 'O', 'O', 'O'],\n",
       " [93, 'O', 'O', 'O', 'O', 'O', 'O', 'O', 'O'],\n",
       " [94, 'O', 'O', 'O', 'O', 'O', 'O', 'O', 'O'],\n",
       " [95, 'O', 'O', 'O', 'O', 'O', 'O', 'O', 'O'],\n",
       " [96, 'O', 'O', 'O', 'O', 'O', 'O', 'O', 'O'],\n",
       " [97, 'O', 'O', 'O', 'O', 'O', 'O', 'O', 'O'],\n",
       " [98, 'O', 'O', 'O', 'O', 'O', 'O', 'O', 'O'],\n",
       " [99, 'O', 'O', 'O', 'O', 'O', 'O', 'O', 'O'],\n",
       " [100, 'O', 'O', 'O', 'O', 'O', 'O', 'O', 'O'],\n",
       " [101, 'O', 'O', 'O', 'O', 'O', 'O', 'O', 'O'],\n",
       " [102, 'O', 'O', 'O', 'O', 'O', 'O', 'O', 'O'],\n",
       " [103, 'O', 'O', 'O', 'O', 'O', 'O', 'O', 'O'],\n",
       " [104, 'O', 'O', 'O', 'O', 'O', 'O', 'O', 'O'],\n",
       " [105, 'O', 'O', 'O', 'O', 'O', 'O', 'O', 'O'],\n",
       " [106, 'O', 'O', 'O', 'O', 'O', 'O', 'O', 'O'],\n",
       " [107, 'O', 'O', 'O', 'O', 'O', 'O', 'O', 'O'],\n",
       " [108, 'O', 'O', 'O', 'O', 'O', 'O', 'O', 'O'],\n",
       " [109, 'O', 'O', 'O', 'O', 'O', 'O', 'O', 'O'],\n",
       " [110, 'O', 'O', 'O', 'O', 'O', 'O', 'O', 'O'],\n",
       " [111, 'O', 'O', 'O', 'O', 'O', 'O', 'O', 'O'],\n",
       " [112, 'O', 'O', 'O', 'O', 'O', 'O', 'O', 'O'],\n",
       " [113, 'O', 'O', 'O', 'O', 'O', 'O', 'O', 'O'],\n",
       " [114, 'O', 'O', 'O', 'O', 'O', 'O', 'O', 'O'],\n",
       " [115, 'O', 'O', 'O', 'O', 'O', 'O', 'O', 'O'],\n",
       " [116, 'O', 'O', 'O', 'O', 'O', 'O', 'O', 'O'],\n",
       " [117, 'O', 'O', 'O', 'O', 'O', 'O', 'O', 'O'],\n",
       " [118, 'O', 'O', 'O', 'O', 'O', 'O', 'O', 'O'],\n",
       " [119, 'O', 'O', 'O', 'O', 'O', 'O', 'O', 'O'],\n",
       " [120, 'O', 'O', 'O', 'O', 'O', 'O', 'O', 'O'],\n",
       " [121, 'O', 'O', 'O', 'O', 'O', 'O', 'O', 'O'],\n",
       " [122, 'O', 'O', 'O', 'O', 'O', 'X', 'X', 'X'],\n",
       " [123, 'X', 'X', 'X', 'X', 'X', 'X', 'X', 'X'],\n",
       " [124, 'X', 'X', 'X', 'X', 'X', 'X', 'X', 'X'],\n",
       " [125, 'X', 'X', 'X', 'X', 'X', 'X', 'X', 'X'],\n",
       " [126, 'X', 'X', 'X', 'X', 'X', 'X', 'X', 'X'],\n",
       " [127, 'X', 'X', 'X', 'X', 'X', 'X', 'X', 'X']]"
      ]
     },
     "execution_count": 47,
     "metadata": {},
     "output_type": "execute_result"
    }
   ],
   "source": [
    "rows"
   ]
  },
  {
   "cell_type": "code",
   "execution_count": 52,
   "metadata": {},
   "outputs": [
    {
     "data": {
      "text/plain": [
       "607"
      ]
     },
     "execution_count": 52,
     "metadata": {},
     "output_type": "execute_result"
    }
   ],
   "source": [
    "# looking at the plan above, the linely seat is: row 75, seat 7\n",
    "75 * 8 + 7"
   ]
  },
  {
   "cell_type": "code",
   "execution_count": null,
   "metadata": {},
   "outputs": [],
   "source": []
  }
 ],
 "metadata": {
  "kernelspec": {
   "display_name": "Python 3",
   "language": "python",
   "name": "python3"
  },
  "language_info": {
   "codemirror_mode": {
    "name": "ipython",
    "version": 3
   },
   "file_extension": ".py",
   "mimetype": "text/x-python",
   "name": "python",
   "nbconvert_exporter": "python",
   "pygments_lexer": "ipython3",
   "version": "3.7.0"
  }
 },
 "nbformat": 4,
 "nbformat_minor": 4
}

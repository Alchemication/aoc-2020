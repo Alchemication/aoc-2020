{
 "cells": [
  {
   "cell_type": "code",
   "execution_count": 1,
   "metadata": {},
   "outputs": [],
   "source": [
    "with open('day3-input.txt', 'r') as f:\n",
    "    f_content = f.read()"
   ]
  },
  {
   "cell_type": "code",
   "execution_count": 33,
   "metadata": {},
   "outputs": [],
   "source": [
    "rows = [r for r in f_content.split('\\n') if r != '']"
   ]
  },
  {
   "cell_type": "markdown",
   "metadata": {},
   "source": [
    "#### task 1"
   ]
  },
  {
   "cell_type": "code",
   "execution_count": 72,
   "metadata": {},
   "outputs": [
    {
     "data": {
      "text/plain": [
       "['........#....#..##..#...#.....#',\n",
       " '...............#....##........#',\n",
       " '.#....##...##..#...............',\n",
       " '.#.......#......#.##..##...#...',\n",
       " '.....#.#....#..##...#.....#....']"
      ]
     },
     "execution_count": 72,
     "metadata": {},
     "output_type": "execute_result"
    }
   ],
   "source": [
    "rows[:5]"
   ]
  },
  {
   "cell_type": "code",
   "execution_count": 73,
   "metadata": {},
   "outputs": [],
   "source": [
    "import math"
   ]
  },
  {
   "cell_type": "code",
   "execution_count": 78,
   "metadata": {},
   "outputs": [],
   "source": [
    "# how many positions to move right?\n",
    "shift_right = 3\n",
    "\n",
    "# how many times we need to multily each row?\n",
    "max_chars = len(rows) * shift_right\n",
    "multiplier = max_chars / len(rows[0]) + 1\n",
    "\n",
    "# initialize vars\n",
    "n_trees = 0\n",
    "curr_pos = 0\n",
    "marked_map = []\n",
    "\n",
    "for i, r in enumerate(rows):\n",
    "    el = list(r * (int(multiplier)))  # split line into indiv. chars\n",
    "    if i > 0 and el[curr_pos] == '#':\n",
    "        n_trees += 1\n",
    "        el[curr_pos] = 'X'\n",
    "    elif i > 0:\n",
    "        el[curr_pos] = 'O'\n",
    "    \n",
    "    # add to marked map for visual purp.\n",
    "    marked_map.append(''.join(el))\n",
    "    \n",
    "    # move by N squares\n",
    "    curr_pos += shift_right"
   ]
  },
  {
   "cell_type": "code",
   "execution_count": 79,
   "metadata": {},
   "outputs": [
    {
     "data": {
      "text/plain": [
       "153"
      ]
     },
     "execution_count": 79,
     "metadata": {},
     "output_type": "execute_result"
    }
   ],
   "source": [
    "n_trees"
   ]
  },
  {
   "cell_type": "markdown",
   "metadata": {},
   "source": [
    "#### task 2"
   ]
  },
  {
   "cell_type": "code",
   "execution_count": 99,
   "metadata": {},
   "outputs": [
    {
     "data": {
      "text/plain": [
       "33"
      ]
     },
     "execution_count": 99,
     "metadata": {},
     "output_type": "execute_result"
    }
   ],
   "source": [
    "# how many positions to move right?\n",
    "shift_right = 1\n",
    "move_down = 2\n",
    "\n",
    "# how many times we need to multily each row?\n",
    "max_chars = len(rows) * shift_right\n",
    "multiplier = max_chars / len(rows[0]) + 1\n",
    "\n",
    "# initialize vars\n",
    "n_trees = 0\n",
    "curr_pos = 0\n",
    "marked_map = []\n",
    "\n",
    "for i, r in enumerate(rows):\n",
    "    el = list(r * (int(multiplier)))  # split line into indiv. chars\n",
    "    if i > 0 and i % move_down == 0 and el[curr_pos] == '#':\n",
    "        n_trees += 1\n",
    "        el[curr_pos] = 'X'\n",
    "    elif i > 0 and i % move_down == 0:\n",
    "        el[curr_pos] = 'O'\n",
    "    \n",
    "    # add to marked map for visual purp.\n",
    "    marked_map.append(''.join(el))\n",
    "    \n",
    "    if i % move_down == 0:\n",
    "        # move by N squares\n",
    "        curr_pos += shift_right\n",
    "    \n",
    "n_trees"
   ]
  },
  {
   "cell_type": "code",
   "execution_count": 100,
   "metadata": {},
   "outputs": [
    {
     "data": {
      "text/plain": [
       "2421944712"
      ]
     },
     "execution_count": 100,
     "metadata": {},
     "output_type": "execute_result"
    }
   ],
   "source": [
    "66 * 153 * 79 * 92 * 33"
   ]
  },
  {
   "cell_type": "code",
   "execution_count": null,
   "metadata": {},
   "outputs": [],
   "source": []
  }
 ],
 "metadata": {
  "kernelspec": {
   "display_name": "Python 3",
   "language": "python",
   "name": "python3"
  },
  "language_info": {
   "codemirror_mode": {
    "name": "ipython",
    "version": 3
   },
   "file_extension": ".py",
   "mimetype": "text/x-python",
   "name": "python",
   "nbconvert_exporter": "python",
   "pygments_lexer": "ipython3",
   "version": "3.7.0"
  }
 },
 "nbformat": 4,
 "nbformat_minor": 4
}

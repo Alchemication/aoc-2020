{
 "cells": [
  {
   "cell_type": "code",
   "execution_count": 67,
   "metadata": {},
   "outputs": [],
   "source": [
    "with open('day7-input.txt', 'r') as f:\n",
    "    f_content = f.read()"
   ]
  },
  {
   "cell_type": "markdown",
   "metadata": {},
   "source": [
    "#### task 1"
   ]
  },
  {
   "cell_type": "code",
   "execution_count": 68,
   "metadata": {},
   "outputs": [],
   "source": [
    "import re"
   ]
  },
  {
   "cell_type": "code",
   "execution_count": 94,
   "metadata": {},
   "outputs": [],
   "source": [
    "# build a database with all counts\n",
    "bag_names, bag_contents_items = [], []\n",
    "for record in f_content.split('\\n'):\n",
    "    if record == '':\n",
    "        continue\n",
    "    matches = re.findall(r'([a-z ]+) bags contain ([1-9a-z, ]+)', record)\n",
    "    try:\n",
    "        bag_name, bag_content = matches[0]\n",
    "    except IndexError as e:\n",
    "        print('Unable to extract: ', record, ' :: ', matches)\n",
    "        raise e\n",
    "    bag_content_items = bag_content.split(', ')\n",
    "    bag_names.append(bag_name)\n",
    "    bag_contents_items.append(bag_content_items)\n",
    "    # print(bag_name, bag_content_items)"
   ]
  },
  {
   "cell_type": "code",
   "execution_count": 95,
   "metadata": {},
   "outputs": [],
   "source": [
    "#bag_names"
   ]
  },
  {
   "cell_type": "code",
   "execution_count": 96,
   "metadata": {},
   "outputs": [],
   "source": [
    "#bag_contents_items"
   ]
  },
  {
   "cell_type": "code",
   "execution_count": 97,
   "metadata": {},
   "outputs": [],
   "source": [
    "bags_struct = {}\n",
    "for b in bag_names:\n",
    "    bags_struct[b] = {}\n",
    "    for b_inn in bag_names:\n",
    "        bags_struct[b][b_inn] = 0"
   ]
  },
  {
   "cell_type": "code",
   "execution_count": 98,
   "metadata": {},
   "outputs": [],
   "source": [
    "for bag_name, bag_content in zip(bag_names, bag_contents_items):\n",
    "    # extract numbers from bag content\n",
    "    # print(bag_content)\n",
    "    for b in bag_content:\n",
    "        #print(b)\n",
    "        matches = re.findall(r'([1-9]) (.+) bag[s]?', b)\n",
    "        #print(matches)\n",
    "        if len(matches) == 1:\n",
    "            qty, content_bag_name = matches[0]\n",
    "            #print(qty, content_bag_name)\n",
    "            bags_struct[bag_name][content_bag_name] = int(qty)\n",
    "    #print('=====')"
   ]
  },
  {
   "cell_type": "code",
   "execution_count": 100,
   "metadata": {},
   "outputs": [],
   "source": [
    "# count bags using search criteria\n",
    "search_bag = 'shiny gold'\n",
    "n_bags = 0\n",
    "for bag_name, bag_content in zip(bag_names, bag_contents_items):\n",
    "    #print(bag_name, ' :: ', bag_content)\n",
    "    for b in bag_content:\n",
    "        #print(b)\n",
    "        matches = re.findall(r'([1-9]) (.+) bag[s]?', b)\n",
    "        if len(matches) == 1:\n",
    "            qty, content_bag_name = matches[0]\n",
    "            try:\n",
    "                qty_additional = bags_struct[content_bag_name][search_bag]\n",
    "            except KeyError as e:\n",
    "                print('Key Error: ', content_bag_name, ' :: ', search_bag)\n",
    "                raise e\n",
    "            is_found = False\n",
    "            if (content_bag_name == search_bag and int(qty) > 0) or int(qty_additional) > 0:\n",
    "                is_found = True\n",
    "                n_bags += 1\n",
    "                # print('YES!!')\n",
    "                break\n",
    "            bags_struct[bag_name][content_bag_name] += qty_additional\n",
    "    #print('=================')"
   ]
  },
  {
   "cell_type": "code",
   "execution_count": 102,
   "metadata": {},
   "outputs": [
    {
     "data": {
      "text/plain": [
       "42"
      ]
     },
     "execution_count": 102,
     "metadata": {},
     "output_type": "execute_result"
    }
   ],
   "source": [
    "n_bags"
   ]
  },
  {
   "cell_type": "code",
   "execution_count": null,
   "metadata": {},
   "outputs": [],
   "source": []
  }
 ],
 "metadata": {
  "kernelspec": {
   "display_name": "Python 3",
   "language": "python",
   "name": "python3"
  },
  "language_info": {
   "codemirror_mode": {
    "name": "ipython",
    "version": 3
   },
   "file_extension": ".py",
   "mimetype": "text/x-python",
   "name": "python",
   "nbconvert_exporter": "python",
   "pygments_lexer": "ipython3",
   "version": "3.7.0"
  }
 },
 "nbformat": 4,
 "nbformat_minor": 4
}

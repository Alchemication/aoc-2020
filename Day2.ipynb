{
 "cells": [
  {
   "cell_type": "code",
   "execution_count": 3,
   "metadata": {},
   "outputs": [],
   "source": [
    "with open('day2-input.txt', 'r') as f:\n",
    "    f_content = f.read()"
   ]
  },
  {
   "cell_type": "code",
   "execution_count": 5,
   "metadata": {},
   "outputs": [],
   "source": [
    "passwords = [p for p in f_content.split('\\n') if p != '']"
   ]
  },
  {
   "cell_type": "code",
   "execution_count": 7,
   "metadata": {},
   "outputs": [
    {
     "data": {
      "text/plain": [
       "1000"
      ]
     },
     "execution_count": 7,
     "metadata": {},
     "output_type": "execute_result"
    }
   ],
   "source": [
    "len(passwords)"
   ]
  },
  {
   "cell_type": "code",
   "execution_count": 8,
   "metadata": {},
   "outputs": [
    {
     "data": {
      "text/plain": [
       "['3-4 l: vdcv',\n",
       " '6-9 d: dddddkzdl',\n",
       " '6-13 f: mfswqfrqffrvfvf',\n",
       " '10-12 l: sfzlnwcptlnlflq',\n",
       " '2-4 m: qbwcmt']"
      ]
     },
     "execution_count": 8,
     "metadata": {},
     "output_type": "execute_result"
    }
   ],
   "source": [
    "passwords[:5]"
   ]
  },
  {
   "cell_type": "code",
   "execution_count": 9,
   "metadata": {},
   "outputs": [],
   "source": [
    "import re"
   ]
  },
  {
   "cell_type": "markdown",
   "metadata": {},
   "source": [
    "#### task 1"
   ]
  },
  {
   "cell_type": "code",
   "execution_count": 48,
   "metadata": {},
   "outputs": [],
   "source": [
    "n_corr = 0\n",
    "for p in passwords:\n",
    "    # print(p)\n",
    "    number_rule, char_rule, passwd = p.split(' ')\n",
    "    n_matches = len([i.start() for i in re.finditer(char_rule[0], passwd)])\n",
    "    n_min, n_max = number_rule.split('-')\n",
    "    # print(n_matches, n_min, n_max)\n",
    "    if n_matches >= int(n_min) and n_matches <= int(n_max):\n",
    "        n_corr += 1"
   ]
  },
  {
   "cell_type": "code",
   "execution_count": 49,
   "metadata": {},
   "outputs": [
    {
     "data": {
      "text/plain": [
       "447"
      ]
     },
     "execution_count": 49,
     "metadata": {},
     "output_type": "execute_result"
    }
   ],
   "source": [
    "n_corr"
   ]
  },
  {
   "cell_type": "markdown",
   "metadata": {},
   "source": [
    "#### task 2"
   ]
  },
  {
   "cell_type": "code",
   "execution_count": 50,
   "metadata": {},
   "outputs": [],
   "source": [
    "n_corr = 0\n",
    "for p in passwords:\n",
    "    #print(p)\n",
    "    number_rule, char_rule, passwd = p.split(' ')\n",
    "    char_rule = char_rule[0]\n",
    "    first_pos, second_pos = number_rule.split('-')\n",
    "    if passwd[int(first_pos) - 1] == char_rule and passwd[int(second_pos) - 1] != char_rule:\n",
    "        #print('MATCH !!!')\n",
    "        n_corr += 1\n",
    "    if passwd[int(first_pos) - 1] != char_rule and passwd[int(second_pos) - 1] == char_rule:\n",
    "        #print('MATCH !!!')\n",
    "        n_corr += 1\n",
    "    #print(char_rule, first_pos, second_pos)\n",
    "    #print('=========')"
   ]
  },
  {
   "cell_type": "code",
   "execution_count": 51,
   "metadata": {},
   "outputs": [
    {
     "data": {
      "text/plain": [
       "249"
      ]
     },
     "execution_count": 51,
     "metadata": {},
     "output_type": "execute_result"
    }
   ],
   "source": [
    "n_corr"
   ]
  },
  {
   "cell_type": "code",
   "execution_count": null,
   "metadata": {},
   "outputs": [],
   "source": []
  }
 ],
 "metadata": {
  "kernelspec": {
   "display_name": "Python 3",
   "language": "python",
   "name": "python3"
  },
  "language_info": {
   "codemirror_mode": {
    "name": "ipython",
    "version": 3
   },
   "file_extension": ".py",
   "mimetype": "text/x-python",
   "name": "python",
   "nbconvert_exporter": "python",
   "pygments_lexer": "ipython3",
   "version": "3.7.0"
  }
 },
 "nbformat": 4,
 "nbformat_minor": 4
}
